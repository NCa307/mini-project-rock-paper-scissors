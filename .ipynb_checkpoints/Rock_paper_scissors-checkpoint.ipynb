{
 "cells": [
  {
   "cell_type": "code",
   "execution_count": 28,
   "id": "874958e1-30a7-40d5-8af0-602e9db18928",
   "metadata": {},
   "outputs": [],
   "source": [
    "import random"
   ]
  },
  {
   "cell_type": "code",
   "execution_count": 29,
   "id": "e1b85c5c-563c-4114-965f-e456c6241d32",
   "metadata": {},
   "outputs": [
    {
     "data": {
      "text/plain": [
       "'scissors'"
      ]
     },
     "execution_count": 29,
     "metadata": {},
     "output_type": "execute_result"
    }
   ],
   "source": [
    "random.choice([\"rock\",\"paper\",\"scissors\"])"
   ]
  },
  {
   "cell_type": "code",
   "execution_count": 30,
   "id": "66f0cbc6-d999-42d8-946d-8e708304a6da",
   "metadata": {},
   "outputs": [],
   "source": [
    "def computer_choice():\n",
    "    \"\"\"generate a random shape from rock paper scissors\"\"\"\n",
    "    computer_choice=random.choice([\"rock\",\"paper\",\"scissors\"])\n",
    "    return computer_choice"
   ]
  },
  {
   "cell_type": "code",
   "execution_count": 31,
   "id": "b9b4e4d5-1865-4ced-bf4d-ec4da645675f",
   "metadata": {},
   "outputs": [],
   "source": [
    "cc=computer_choice()"
   ]
  },
  {
   "cell_type": "code",
   "execution_count": 32,
   "id": "0261ee2c-adbc-421d-b132-1e473c1e7277",
   "metadata": {},
   "outputs": [],
   "source": [
    "def player_choice():\n",
    "    \"\"\"Ask the user to pick a shape from rock, paper, or scissors\"\"\"\n",
    "    player_choice=input(\"Choose rock, paper, or scissors: \")\n",
    "    return player_choice"
   ]
  },
  {
   "cell_type": "code",
   "execution_count": 33,
   "id": "d463ef49-3e8b-4a0c-b9dd-338828503f47",
   "metadata": {},
   "outputs": [
    {
     "name": "stdin",
     "output_type": "stream",
     "text": [
      "Choose rock, paper, or scissors:  rock\n"
     ]
    }
   ],
   "source": [
    "pc= player_choice()"
   ]
  },
  {
   "cell_type": "code",
   "execution_count": 34,
   "id": "6d7e3da2-ff31-4f95-8bd7-e5c1c521cc37",
   "metadata": {},
   "outputs": [],
   "source": [
    "def round_winner(player_choice, computer_choice):\n",
    "    \"\"\"Determine the winner of the round\"\"\"\n",
    "    if player_choice == computer_choice:\n",
    "        return \"No one wins\"\n",
    "    elif (\n",
    "        (player_choice == \"scissors\" and computer_choice == \"paper\") or\n",
    "        (player_choice == \"paper\" and computer_choice == \"rock\") or\n",
    "        (player_choice == \"rock\" and computer_choice == \"scissors\")\n",
    "    ):\n",
    "        return \"Player wins\"\n",
    "    else:\n",
    "        return \"Computer wins\""
   ]
  },
  {
   "cell_type": "code",
   "execution_count": 35,
   "id": "bb3c8d0f-d7db-41be-850f-cf0f8fcb301f",
   "metadata": {},
   "outputs": [],
   "source": [
    "rw=round_winner(player_choice, computer_choice)"
   ]
  },
  {
   "cell_type": "code",
   "execution_count": 36,
   "id": "ece791a0-91f6-454f-a694-52d730a97581",
   "metadata": {},
   "outputs": [
    {
     "name": "stdout",
     "output_type": "stream",
     "text": [
      "scissors\n"
     ]
    },
    {
     "name": "stdin",
     "output_type": "stream",
     "text": [
      "Choose rock, paper, or scissors:  paper\n"
     ]
    },
    {
     "name": "stdout",
     "output_type": "stream",
     "text": [
      "paper\n",
      "Computer wins\n",
      "Computer wins\n",
      "1\n",
      "rock\n"
     ]
    },
    {
     "name": "stdin",
     "output_type": "stream",
     "text": [
      "Choose rock, paper, or scissors:  scissors\n"
     ]
    },
    {
     "name": "stdout",
     "output_type": "stream",
     "text": [
      "scissors\n",
      "Computer wins\n",
      "Computer wins\n",
      "2\n",
      "paper\n"
     ]
    },
    {
     "name": "stdin",
     "output_type": "stream",
     "text": [
      "Choose rock, paper, or scissors:  rock\n"
     ]
    },
    {
     "name": "stdout",
     "output_type": "stream",
     "text": [
      "rock\n",
      "Computer wins\n",
      "Computer wins\n",
      "3\n",
      "Computer wins! Game over!\n"
     ]
    }
   ],
   "source": [
    "def play_game():\n",
    "    player_score=0\n",
    "    computer_score=0\n",
    "    while player_score < 3 and computer_score < 3:\n",
    "        cc=computer_choice()\n",
    "        print(cc)\n",
    "        pc= player_choice()\n",
    "        print(pc)\n",
    "        rw=round_winner(pc, cc)\n",
    "        print(rw)\n",
    "        if rw == \"Player wins\":\n",
    "            player_score += 1\n",
    "            print(\"Player wins!\")\n",
    "            print(player_score)\n",
    "        elif rw == \"Computer wins\":\n",
    "            computer_score += 1\n",
    "            print(\"Computer wins\")\n",
    "            print(computer_score)\n",
    "        else:\n",
    "            print(\"No one wins\")\n",
    "            print(computer_score)\n",
    "            print(player_score)\n",
    "        if player_score==3:\n",
    "            print(\"Player wins! Game over\")\n",
    "        elif computer_score==3:\n",
    "        \n",
    "            print(\"Computer wins! Game over!\")\n",
    "          \n",
    "play_game()              "
   ]
  },
  {
   "cell_type": "code",
   "execution_count": null,
   "id": "799bc06c-1253-4556-bd5e-2c77e5b8bb11",
   "metadata": {},
   "outputs": [],
   "source": []
  },
  {
   "cell_type": "code",
   "execution_count": null,
   "id": "c5c492cc-eeff-41d4-ae13-a4ddc47b903c",
   "metadata": {},
   "outputs": [],
   "source": []
  },
  {
   "cell_type": "code",
   "execution_count": null,
   "id": "61db03a9-65db-44a5-9aaf-bb2605326e40",
   "metadata": {},
   "outputs": [],
   "source": []
  },
  {
   "cell_type": "code",
   "execution_count": null,
   "id": "13ec60be-d77b-4296-9699-f04f8879f9d1",
   "metadata": {},
   "outputs": [],
   "source": []
  },
  {
   "cell_type": "raw",
   "id": "8eb3676e-8ec2-4497-9e3b-fabdd9bb3020",
   "metadata": {},
   "source": []
  }
 ],
 "metadata": {
  "kernelspec": {
   "display_name": "Python 3",
   "language": "python",
   "name": "python3"
  },
  "language_info": {
   "codemirror_mode": {
    "name": "ipython",
    "version": 3
   },
   "file_extension": ".py",
   "mimetype": "text/x-python",
   "name": "python",
   "nbconvert_exporter": "python",
   "pygments_lexer": "ipython3",
   "version": "3.13.5"
  }
 },
 "nbformat": 4,
 "nbformat_minor": 5
}
